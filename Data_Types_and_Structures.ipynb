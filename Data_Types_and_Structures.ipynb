{
  "nbformat": 4,
  "nbformat_minor": 0,
  "metadata": {
    "colab": {
      "provenance": []
    },
    "kernelspec": {
      "name": "python3",
      "display_name": "Python 3"
    },
    "language_info": {
      "name": "python"
    }
  },
  "cells": [
    {
      "cell_type": "markdown",
      "source": [
        "Data Types and Structures Questions\n"
      ],
      "metadata": {
        "id": "dSUBX1lMm6lM"
      }
    },
    {
      "cell_type": "markdown",
      "source": [
        "1) What are data structures, and why are they important.\n",
        "1) Okay, let's discuss data structures and their importance:\n",
        "\n",
        "What are Data Structures?\n",
        "\n",
        "Data structures are specialized ways of organizing and storing data in a computer so that it can be accessed and used efficiently. They define how data is arranged, how elements are related to each other, and what operations can be performed on the data.\n",
        "\n",
        "Think of data structures like containers that hold your data in specific arrangements. Different types of containers are suitable for different purposes, just as different data structures are efficient for different tasks.\n",
        "\n",
        "\n",
        "Data structures are crucial for several reasons:\n",
        "\n",
        "Efficiency: They allow you to store and retrieve data quickly, which is essential for writing performant code. Different data structures have different time complexities for operations like searching, insertion, and deletion, and choosing the right data structure can significantly impact the performance of your program.\n",
        "\n",
        "Organization: They provide a structured way to manage your data, making it easier to understand and maintain your code. Well-organized data is also easier to search and manipulate.\n",
        "\n",
        "Reusability: Once you've defined a data structure, you can reuse it in different parts of your code or even in other projects. This saves you time and effort and helps ensure consistency in your codebase.\n",
        "\n",
        "Abstraction: They provide a layer of abstraction that allows you to focus on the logic of your program without worrying about the underlying implementation details of how data is stored.\n",
        "\n",
        "Problem Solving: Many algorithms and solutions rely on specific data structures to solve particular problems efficiently. Understanding data structures is essential for mastering algorithm design and analysis.\n",
        "\n",
        "Common Data Structures in Python:\n",
        "\n",
        "Lists: Ordered, mutable collections of elements.\n",
        "Tuples: Ordered, immutable collections of elements.\n",
        "Sets: Unordered collections of unique elements.\n",
        "Dictionaries: Collections of key-value pairs."
      ],
      "metadata": {
        "id": "QjzQ0Bf1nBIW"
      }
    },
    {
      "cell_type": "markdown",
      "source": [
        "2)  Explain the difference between mutable and immutable data types with examples\n",
        "2) Mutable Data Types:\n",
        "\n",
        "Mutable data types are those whose values can be changed after they are created. This means you can modify the internal state of the object without creating a new object.\n",
        "\n",
        "Examples:\n",
        "\n",
        "Lists: You can add, remove, or modify elements within a list.\n",
        "\n",
        "my_list = [1, 2, 3]\n",
        "   my_list[0] = 10  # Modifying the first element\n",
        "   my_list.append(4)  # Adding an element\n",
        "   print(my_list)  # Output: [10, 2, 3, 4]\n",
        "Use code with caution\n",
        "Dictionaries: You can add, remove, or update key-value pairs.\n",
        "\n",
        "my_dict = {'name': 'Alice', 'age': 30}\n",
        "   my_dict['age'] = 31  # Updating the value of 'age'\n",
        "   my_dict['city'] = 'New York'  # Adding a new key-value pair\n",
        "   print(my_dict)  # Output: {'name': 'Alice', 'age': 31, 'city': 'New York'}\n",
        "Use code with caution\n",
        "Sets: You can add or remove elements from a set.\n",
        "\n",
        "my_set = {1, 2, 3}\n",
        "   my_set.add(4)  # Adding an element\n",
        "   my_set.remove(2)  # Removing an element\n",
        "   print(my_set)  # Output: {1, 3, 4}\n",
        "Use code with caution\n",
        "Immutable Data Types:\n",
        "\n",
        "Immutable data types are those whose values cannot be changed after they are created. If you try to modify an immutable object, a new object is created with the modified value.\n",
        "\n",
        "Examples:\n",
        "\n",
        "Numbers (int, float, complex):\n",
        "\n",
        "x = 10\n",
        "    y = x + 5  # y is assigned a new value, x remains unchanged\n",
        "    print(x, y)  # Output: 10 15\n",
        "Use code with caution\n",
        "Strings:\n",
        "\n",
        "text = \"hello\"\n",
        "    new_text = text.upper()  # new_text is a new string, text remains unchanged\n",
        "    print(text, new_text)  # Output: hello HELLO\n",
        "Use code with caution\n",
        "Tuples:\n",
        "\n",
        "my_tuple = (1, 2, 3)\n",
        "    # my_tuple[0] = 10  # This would raise an error as tuples are immutable"
      ],
      "metadata": {
        "id": "feLeSomynYHv"
      }
    },
    {
      "cell_type": "markdown",
      "source": [
        "3) What are the main differences between lists and tuples in Python\n",
        "3) Mutability:\n",
        "\n",
        "Lists are mutable: This means you can change their contents (add, remove, or modify elements) after they are created.\n",
        "Tuples are immutable: Once created, their elements cannot be changed.\n",
        "Syntax:\n",
        "\n",
        "Lists are defined using square brackets []: my_list = [1, 2, 3]\n",
        "Tuples are defined using parentheses (): my_tuple = (1, 2, 3)\n",
        "Performance:\n",
        "\n",
        "Tuples are generally faster than lists for accessing elements and iterating due to their immutability.\n",
        "Lists may be slightly slower due to the overhead of potential modifications.\n",
        "Use Cases:\n",
        "\n",
        "Lists are suitable for storing collections of data that may need to be modified. For example, a list of student names in a class.\n",
        "Tuples are often used for representing fixed collections of data, such as coordinates or database records. They can also be used as keys in dictionaries because they are immutable.\n",
        "Methods:\n",
        "\n",
        "Lists have more built-in methods for modifying their contents, such as append(), insert(), remove(), etc.\n",
        "Tuples have fewer methods, mainly focused on accessing elements and information about the tuple (e.g., count(), index()).\n"
      ],
      "metadata": {
        "id": "cIWIP_8wnw_s"
      }
    },
    {
      "cell_type": "markdown",
      "source": [
        "4) Describe how dictionaries store data\n",
        "4) Dictionaries in Python store data as key-value pairs. This means each element in a dictionary consists of a unique key and its associated value. The keys are used to access the corresponding values.\n",
        "\n",
        "Here's a breakdown of how dictionaries store data:\n",
        "\n",
        "Hash Table: Dictionaries are implemented using a hash table data structure. A hash table is a way to store data in a way that allows for efficient lookups and insertions.\n",
        "\n",
        "Hashing: When you add a key-value pair to a dictionary, the key is passed through a hash function. This function generates a unique numerical value (called a hash) for the key.\n",
        "\n",
        "Buckets: The hash table is divided into buckets, and the hash value is used to determine which bucket the key-value pair should be stored in. This helps to organize the data for efficient retrieval.\n",
        "\n",
        "Collisions: Sometimes, two different keys might generate the same hash value, resulting in a collision. Dictionaries handle collisions by storing multiple key-value pairs in the same bucket, usually using a linked list or a similar data structure.\n",
        "\n",
        "Lookup: When you want to access a value in a dictionary, you provide the key. The key is hashed again, and the hash value is used to find the correct bucket. Then, the key is compared with the keys in the bucket to find the matching key-value pair.\n",
        "\n",
        "Key Properties:\n",
        "\n",
        "Keys must be immutable: This is because the hash value of a key needs to remain constant. Immutable data types like strings, numbers, and tuples can be used as keys.\n",
        "Keys must be unique: Each key in a dictionary can only appear once. If you try to add a key that already exists, the existing value will be overwritten.\n",
        "Values can be of any data type: The values associated with keys can be any Python object, including lists, dictionaries, and other complex data structures.\n",
        "Example:\n",
        "\n",
        "\n",
        "my_dict = {'name': 'Alice', 'age': 30, 'city': 'New York'}\n",
        "\n",
        "In this dictionary:\n",
        "\n",
        "'name', 'age', and 'city' are the keys.\n",
        "'Alice', 30, and 'New York' are the corresponding values.\n",
        "To access the value associated with the key 'name', you would use my_dict['name'], which would return 'Alice'."
      ],
      "metadata": {
        "id": "2hfukuttq216"
      }
    },
    {
      "cell_type": "markdown",
      "source": [
        "5) Why might you use a set instead of a list in Python\n",
        "5) you might choose to use a set instead of a list in Python:\n",
        "\n",
        "Main Reasons to Use a Set:\n",
        "\n",
        "Uniqueness: Sets only store unique elements. If you add the same element multiple times, it will only appear once in the set. This is useful when you need to ensure that all elements in a collection are distinct.\n",
        "\n",
        "Membership Testing: Checking if an element is present in a set is very efficient (O(1) time complexity on average). This is because sets use a hash table implementation, allowing for fast lookups. In contrast, checking membership in a list requires iterating through the list, which can be slower (O(n) time complexity).\n",
        "\n",
        "Mathematical Set Operations: Sets provide built-in methods for performing mathematical set operations like union, intersection, difference, and more. These operations can be very convenient for tasks involving set theory concepts.\n",
        "\n",
        "Here's a breakdown of when to use sets over lists:\n",
        "\n",
        "When you need to ensure uniqueness: If you're working with data where duplicates are not allowed or need to be removed, using a set is a natural choice. For example, storing a list of unique usernames or product IDs.\n",
        "When you need fast membership testing: If your code frequently checks if an element is present in a collection, using a set can significantly improve performance. This is common in scenarios like filtering data or validating user input.\n",
        "When you need to perform set operations: If your task involves mathematical set operations like finding the union or intersection of two collections, using sets simplifies the code and makes it more readable.\n",
        "Example:\n",
        "\n",
        "\n",
        "my_list = [1, 2, 2, 3, 4, 4, 5]\n",
        "my_set = set(my_list)  # Convert the list to a set to remove duplicates\n",
        "print(my_set)  # Output: {1, 2, 3, 4, 5}\n",
        "Use code with caution\n",
        "In this example, the set automatically removes the duplicate elements from the list, ensuring uniqueness.\n",
        "\n",
        "However, keep in mind that sets are unordered, so if you need to preserve the order of elements, a list is the better choice. Additionally, sets are mutable, so you can add or remove elements, but you cannot modify existing elements directly (like you can with lists)."
      ],
      "metadata": {
        "id": "IKIsonMbPO65"
      }
    },
    {
      "cell_type": "markdown",
      "source": [
        "6)  What is a string in Python, and how is it different from a list?\n",
        "6) In Python, a string is a sequence of characters. It is an immutable data type, meaning that once a string is created, its contents cannot be changed. Strings are typically used to represent text.\n",
        "\n",
        "While both strings and lists are sequences in Python, they have some key differences:\n",
        "\n",
        "Mutability:\n",
        "\n",
        "Strings are immutable: You cannot change the individual characters of a string once it's created. Any operation that appears to modify a string actually creates a new string with the changes.\n",
        "Lists are mutable: You can modify the elements of a list after it's created (add, remove, or change elements).\n",
        "Data Type:\n",
        "\n",
        "Strings store characters: Each element in a string is a single character.\n",
        "Lists can store any data type: Lists can hold elements of different data types, including numbers, strings, other lists, etc.\n",
        "Syntax:\n",
        "\n",
        "Strings are defined using single quotes ('), double quotes (\"), or triple quotes (''' or \"\"\") : \"Hello\", 'Python', \"\"\"Multi-line string\"\"\".\n",
        "Lists are defined using square brackets []: [1, 2, 3], ['apple', 'banana'].\n",
        "Operations:\n",
        "\n",
        "Strings have specific operations for text manipulation: such as concatenation (+), repetition (*), slicing ([:]), and various built-in string methods (e.g., upper(), lower(), split()).\n",
        "Lists have operations for sequence manipulation: such as appending (append()), inserting (insert()), removing (remove()), and sorting (sort()).\n",
        "Use Cases:\n",
        "\n",
        "Strings are primarily used for representing text data: like names, sentences, paragraphs, etc.\n",
        "Lists are used for storing collections of items: that may need to be modified, such as a list of numbers, a list of names, or a list of tasks."
      ],
      "metadata": {
        "id": "ICz58LGTPslG"
      }
    },
    {
      "cell_type": "markdown",
      "source": [
        "7)  How do tuples ensure data integrity in Python ?\n",
        "\n",
        "7) Tuples ensure data integrity primarily through their immutability. This means that once a tuple is created, its elements cannot be changed. This characteristic has several implications for data integrity:\n",
        "\n",
        "Preventing Accidental Modification: Immutability safeguards against accidental changes to the data stored in a tuple. Since you cannot modify tuple elements directly, there's no risk of unintentionally altering the data. This is especially useful in situations where you want to ensure that certain data remains constant throughout the program's execution.\n",
        "\n",
        "Data Consistency: Tuples help maintain data consistency by guaranteeing that the elements within a tuple will always be the same. This is important when dealing with sensitive information or data that should not be tampered with.\n",
        "\n",
        "Suitable for Hashable Keys: Because tuples are immutable, they can be used as keys in dictionaries. Dictionaries rely on the hash value of keys to efficiently store and retrieve data. Since the hash value of a tuple depends on its elements, immutability ensures that the hash value remains constant, guaranteeing the integrity of the dictionary structure.\n",
        "\n",
        "Safe for Data Sharing: When you pass a tuple to a function or share it between different parts of your code, you can be confident that the original data will not be modified unexpectedly. This makes tuples a safer option for data exchange compared to mutable data structures like lists.\n",
        "\n",
        "Representing Fixed Collections: Tuples are often used to represent fixed collections of related data, such as coordinates, database records, or configuration settings. Their immutability ensures that the structure and contents of these collections remain unchanged throughout the program's execution.\n",
        "\n",
        "Example:\n",
        "\n",
        "\n",
        "coordinates = (10, 20)  # Representing a point in 2D space\n",
        "# coordinates[0] = 15  # This would raise an error as tuples are immutable\n",
        "Use code with caution\n",
        "In this example, the coordinates tuple represents a fixed point in 2D space. Its immutability prevents accidental modification of the coordinates, ensuring that the point's location remains consistent."
      ],
      "metadata": {
        "id": "3gFe8IP4QFJf"
      }
    },
    {
      "cell_type": "markdown",
      "source": [
        "8) What is a hash table, and how does it relate to dictionaries in Python?\n",
        "8) Okay, let's discuss hash tables and their relationship with dictionaries in Python:\n",
        "\n",
        "What is a Hash Table?\n",
        "\n",
        "A hash table is a data structure that stores data in an associative manner, meaning it stores key-value pairs. It uses a hash function to compute an index into an array of buckets or slots, from which the desired value can be found.\n",
        "\n",
        "Here's a simplified breakdown:\n",
        "\n",
        "Hash Function: A hash function takes a key as input and returns a unique numerical value called a hash. This hash is used to determine where the key-value pair should be stored in the hash table.\n",
        "\n",
        "Buckets/Slots: The hash table is divided into buckets or slots, which are essentially storage locations for key-value pairs. The hash value is used to map the key to a specific bucket.\n",
        "\n",
        "Collisions: When two different keys produce the same hash value, it's called a collision. Hash tables employ collision resolution techniques (e.g., chaining, open addressing) to handle such situations.\n",
        "\n",
        "Lookup: To retrieve a value associated with a key, the hash function is applied to the key again, and the resulting hash is used to locate the correct bucket. The key is then compared with the keys in the bucket to find the matching key-value pair.\n",
        "\n",
        "How Hash Tables Relate to Dictionaries in Python\n",
        "\n",
        "Dictionaries in Python are implemented using hash tables. This is why dictionaries provide efficient key-based lookups, insertions, and deletions.\n",
        "\n",
        "Here's the connection:\n",
        "\n",
        "Key-Value Storage: Dictionaries store data as key-value pairs, just like hash tables.\n",
        "Hashing: When you add a key-value pair to a dictionary, Python's built-in hash function is used to generate a hash for the key. This hash determines the bucket where the key-value pair will be stored.\n",
        "Lookup: When you access a value using a key in a dictionary, the hash function is applied to the key again, and the resulting hash is used to quickly locate the corresponding value in the hash table.\n",
        "Benefits of Hash Tables for Dictionaries:\n",
        "\n",
        "Fast Lookups: Hash tables provide average-case O(1) time complexity for key lookups, making dictionaries very efficient for retrieving values.\n",
        "Efficient Insertions and Deletions: Similar to lookups, insertions and deletions in dictionaries also have average-case O(1) time complexity, making them performant for dynamic data storage.\n",
        "Flexible Key Types: Hash tables can accommodate various immutable data types as keys, allowing dictionaries to store diverse key-value pairs.\n",
        "In essence, hash tables are the underlying mechanism that powers the efficient functionality of dictionaries in Python. By leveraging hash tables, dictionaries provide a powerful and versatile way to store and retrieve data based on keys. I hope this explanation clarifies the relationship between hash tables and dictionaries!"
      ],
      "metadata": {
        "id": "7gaoqVqzRNmm"
      }
    },
    {
      "cell_type": "markdown",
      "source": [
        "9)  Can lists contain different data types in Python?\n",
        "9) Yes, lists in Python can contain different data types. You can mix and match elements of various types within a single list.\n",
        "\n",
        "Here's an example:\n",
        "\n",
        "\n",
        "my_list = [10, \"Hello\", 3.14, True, [1, 2, 3]]\n",
        "Use code with caution\n",
        "In this example, my_list contains an integer (10), a string (\"Hello\"), a float (3.14), a boolean (True), and another list ([1, 2, 3]).\n",
        "\n",
        "Reasoning:\n",
        "\n",
        "Python lists are dynamically typed, meaning they don't enforce a specific data type for their elements. This flexibility allows you to store a variety of data within a single list, making them versatile for various programming tasks.\n",
        "\n",
        "Benefits of Mixed Data Types in Lists:\n",
        "\n",
        "Representing Complex Data: You can use lists to represent real-world data that often consists of different types of information. For example, a list could store information about a person, including their name (string), age (integer), and address (string).\n",
        "Flexibility: Lists with mixed data types provide flexibility in how you structure and organize your data. You can adapt the list to accommodate different kinds of elements as needed.\n",
        "Data Processing: Lists with mixed data types can be easily processed using loops and conditional statements to perform operations on specific types of elements within the list.\n",
        "However, keep in mind that when working with lists containing mixed data types, you might need to be careful about the types of operations you perform on the elements. You might need to use type checking or conditional logic to handle different data types appropriately."
      ],
      "metadata": {
        "id": "D6xke49eRuqc"
      }
    },
    {
      "cell_type": "markdown",
      "source": [
        "10) Explain why strings are immutable in Python?\n",
        "10) let's discuss why strings are immutable in Python:\n",
        "\n",
        "Reasons for String Immutability:\n",
        "\n",
        "Performance: Immutable strings allow for various performance optimizations. For example, Python can store only one copy of each distinct string value in memory, saving space and improving efficiency. When you create a new string that is identical to an existing one, Python can simply reuse the existing string object instead of creating a new one.\n",
        "\n",
        "Hashing: Strings are often used as keys in dictionaries. Dictionaries rely on the hash value of keys for efficient lookup. If strings were mutable, their hash value could change after creation, leading to inconsistencies in the dictionary structure. Immutability ensures that the hash value of a string remains constant, guaranteeing the integrity of dictionaries.\n",
        "\n",
        "Security: Immutable strings enhance security by preventing unintended modifications. If a string were mutable, a malicious or buggy piece of code could potentially alter the value of a string, leading to unexpected behavior or security vulnerabilities. Immutability provides a level of protection against such modifications.\n",
        "\n",
        "Thread Safety: In multi-threaded programs, where multiple threads can access and manipulate data simultaneously, immutability simplifies concurrency management. Since strings cannot be changed, there's no need for complex locking mechanisms to synchronize access to them, reducing the risk of race conditions.\n",
        "\n",
        "Caching: Immutable strings can be easily cached, meaning that the interpreter can store frequently used string values in a cache for faster retrieval. This can improve the performance of programs that work extensively with strings.\n",
        "\n",
        "Example:\n",
        "\n",
        "\n",
        "text = \"hello\"\n",
        "new_text = text.upper()\n",
        "print(text, new_text)  # Output: hello HELLO\n",
        "Use code with caution\n",
        "In this example, even though we call the upper() method on the text string, the original string remains unchanged. Instead, a new string (new_text) is created with the uppercase version of the text. This demonstrates the immutability of strings.\n",
        "\n",
        "While immutability might seem restrictive at times, it offers significant benefits in terms of performance, security, and overall program stability. Python provides various methods for manipulating strings without changing the original string object, such as creating new strings with the desired modifications."
      ],
      "metadata": {
        "id": "dOo28aXrR4Hs"
      }
    },
    {
      "cell_type": "markdown",
      "source": [
        "11)  What advantages do dictionaries offer over lists for certain tasks?\n",
        "11) Okay, let's discuss the advantages that dictionaries offer over lists for certain tasks in Python:\n",
        "\n",
        "Key Advantages of Dictionaries:\n",
        "\n",
        "Efficient Key-Based Lookup: Dictionaries provide very fast (average-case O(1) time complexity) lookups based on keys. This is because they use a hash table implementation, allowing for quick retrieval of values associated with specific keys. In contrast, searching for an element in a list requires iterating through the list, which can be slower (O(n) time complexity).\n",
        "\n",
        "Data Organization: Dictionaries are ideal for representing structured data where you want to associate values with specific keys. This allows for more organized and meaningful storage of information compared to lists, which simply store elements in a sequential order.\n",
        "\n",
        "Flexibility: Dictionaries can store values of any data type, including lists, other dictionaries, and custom objects. This flexibility makes them versatile for representing complex data structures. Lists, while also flexible, are typically used for storing collections of elements of the same data type.\n",
        "\n",
        "Readability: Dictionaries can improve code readability by using descriptive keys to access values, making the code more self-explanatory. In lists, you need to rely on index positions to access elements, which can be less intuitive.\n",
        "\n",
        "Data Modeling: Dictionaries are often used for data modeling, where you want to represent objects or entities with their attributes. For example, you could use a dictionary to store information about a person, with keys like \"name\", \"age\", and \"address\".\n",
        "\n",
        "When to Use Dictionaries over Lists:\n",
        "\n",
        "When you need fast key-based lookups: If your code frequently needs to retrieve values based on specific keys, dictionaries are the preferred choice. This is common in scenarios like storing user data, configuration settings, or caching frequently accessed information.\n",
        "When you need to represent structured data: If you're working with data that has a clear key-value relationship, dictionaries provide a natural way to organize and store the information. For example, representing a product catalog with product IDs as keys and product details as values.\n",
        "When you need flexibility in data types: If you need to store values of different data types within a single collection, dictionaries offer the flexibility to do so. Lists are typically used for storing elements of the same data type.\n",
        "When you want to improve code readability: Using dictionaries with descriptive keys can make your code more understandable and maintainable compared to using lists with index positions.\n",
        "Example:\n",
        "\n",
        "\n",
        "student = {'name': 'Alice', 'age': 20, 'grades': [85, 90, 92]}\n",
        "Use code with caution\n",
        "In this example, the dictionary student stores information about a student, with keys like \"name\", \"age\", and \"grades\". Accessing the student's name is as simple as student['name'], which is more readable than using an index position in a list."
      ],
      "metadata": {
        "id": "_c1sepguSCEU"
      }
    },
    {
      "cell_type": "markdown",
      "source": [
        "12)  Describe a scenario where using a tuple would be preferable over a list?\n",
        "12)  Scenario: Representing Immutable Data\n",
        "\n",
        "Consider a scenario where you need to store the coordinates of a point in 2D space. These coordinates should remain fixed and should not be modified accidentally during the program's execution.\n",
        "\n",
        "Why Tuple is Preferred:\n",
        "\n",
        "In this case, using a tuple would be more appropriate than a list because of its immutability. Tuples guarantee that the coordinates stored within them cannot be changed after creation. This ensures the integrity of the data and prevents unintended modifications that could lead to errors or inconsistencies.\n",
        "\n",
        "Example:\n",
        "\n",
        "\n",
        "point = (10, 20)  # Representing the coordinates as a tuple\n",
        "# point[0] = 15  # This would raise an error as tuples are immutable\n",
        "Use code with caution\n",
        "In this example, the point tuple represents the coordinates (10, 20). Because tuples are immutable, any attempt to modify the coordinates (like changing the x-coordinate to 15) would result in an error. This ensures that the point's location remains fixed and consistent throughout the program.\n",
        "\n",
        "Benefits of Using a Tuple in This Scenario:\n",
        "\n",
        "Data Integrity: Immutability prevents accidental modification of the coordinates, ensuring that the point's location remains consistent.\n",
        "Clarity of Intent: Using a tuple clearly indicates that the data is intended to be fixed and should not be changed.\n",
        "Safety: When passing the coordinates to functions or sharing them between different parts of the code, you can be confident that the original data will not be modified unexpectedly.\n",
        "In contrast, if you used a list to store the coordinates, there would be a risk of accidentally modifying the elements, which could lead to incorrect results or unexpected behavior.\n",
        "\n",
        "Other Scenarios Where Tuples Are Preferred:\n",
        "\n",
        "Representing fixed collections of data, such as database records or configuration settings.\n",
        "Using as keys in dictionaries, as immutability is a requirement for dictionary keys.\n",
        "Returning multiple values from a function, where you want to ensure that the returned values are not modified."
      ],
      "metadata": {
        "id": "VzClWBvoSQGV"
      }
    },
    {
      "cell_type": "markdown",
      "source": [
        "13)  How do sets handle duplicate values in Python?\n",
        "13) Okay, let's discuss how sets handle duplicate values in Python:\n",
        "\n",
        "Sets inherently do not allow duplicate values. When you try to add a duplicate element to a set, it is simply ignored, and the set remains unchanged. This behavior is a fundamental property of sets, stemming from their mathematical definition as collections of distinct elements.\n",
        "\n",
        "Here's how it works:\n",
        "\n",
        "Hashing: When you add an element to a set, Python uses a hash function to generate a unique numerical value (hash) for the element. This hash is used to determine where the element should be stored within the set's internal data structure (usually a hash table).\n",
        "\n",
        "Collision Detection: If you try to add an element that already exists in the set, the hash function will produce the same hash value as the existing element. This is called a collision.\n",
        "\n",
        "Duplicate Check: Sets have mechanisms to detect collisions. When a collision occurs, the set compares the new element with the existing element in the corresponding bucket. If the elements are equal (based on their equality comparison), the new element is considered a duplicate and is not added to the set.\n",
        "\n",
        "Example:\n",
        "\n",
        "\n",
        "my_set = {1, 2, 3, 2, 4, 1}\n",
        "print(my_set)  # Output: {1, 2, 3, 4}\n",
        "Use code with caution\n",
        "In this example, even though we try to add the elements 2 and 1 multiple times, they only appear once in the final set. The duplicates are automatically ignored.\n",
        "\n",
        "Benefits of Duplicate Handling in Sets:\n",
        "\n",
        "Uniqueness: Sets guarantee that all elements within them are unique, making them ideal for representing collections of distinct items.\n",
        "Data Integrity: By preventing duplicates, sets help maintain data integrity and avoid redundancy.\n",
        "Efficiency: Removing duplicates during set creation can improve the efficiency of certain operations, such as membership testing and set operations (union, intersection, etc.).\n",
        "Use Cases:\n",
        "\n",
        "Removing duplicates from a list: You can easily convert a list to a set to eliminate duplicates and then convert it back to a list if needed.\n",
        "Storing unique items: Sets are suitable for storing collections of unique elements, such as usernames, product IDs, or email addresses.\n",
        "Performing mathematical set operations: Sets provide built-in methods for performing set operations like union, intersection, and difference, which are often used in data analysis and manipulation tasks."
      ],
      "metadata": {
        "id": "RnAm4aJ9Sbka"
      }
    },
    {
      "cell_type": "markdown",
      "source": [
        "14) How does the “in” keyword work differently for lists and dictionaries?\n",
        "\n",
        "14) how the in keyword works differently for lists and dictionaries in Python:\n",
        "\n",
        "Lists:\n",
        "\n",
        "When used with lists, the in keyword checks for membership of an element within the list. It iterates through the list and compares the element with each item in the list. If a match is found, it returns True; otherwise, it returns False.\n",
        "\n",
        "Example:\n",
        "\n",
        "\n",
        "my_list = [1, 2, 3, 4, 5]\n",
        "\n",
        "if 3 in my_list:\n",
        "  print(\"3 is in the list\")  # This will be printed\n",
        "else:\n",
        "  print(\"3 is not in the list\")\n",
        "Use code with caution\n",
        "Dictionaries:\n",
        "\n",
        "When used with dictionaries, the in keyword checks for the presence of a key within the dictionary. It does not check for the presence of values. If the specified key is found in the dictionary, it returns True; otherwise, it returns False.\n",
        "\n",
        "Example:\n",
        "\n",
        "\n",
        "my_dict = {'name': 'Alice', 'age': 30, 'city': 'New York'}\n",
        "\n",
        "if 'name' in my_dict:\n",
        "  print(\"The key 'name' is in the dictionary\")  # This will be printed\n",
        "else:\n",
        "  print(\"The key 'name' is not in the dictionary\")\n",
        "\n",
        "if 'Alice' in my_dict:\n",
        "  print(\"The value 'Alice' is in the dictionary\")  # This will NOT be printed\n",
        "else:\n",
        "  print(\"The value 'Alice' is not in the dictionary\")\n",
        "Use code with caution\n",
        "Key Differences:\n",
        "\n",
        "Data Structure\tWhat in checks for\n",
        "List\tMembership of an element\n",
        "Dictionary\tPresence of a key\n",
        "Time Complexity:\n",
        "\n",
        "Lists: The in operator for lists has a time complexity of O(n), where n is the length of the list. This is because it might need to iterate through the entire list to find the element.\n",
        "Dictionaries: The in operator for dictionaries has an average time complexity of O(1), meaning it takes roughly the same amount of time regardless of the dictionary's size. This is due to the efficient hash table implementation of dictionaries."
      ],
      "metadata": {
        "id": "IJcQQ8waSw-u"
      }
    },
    {
      "cell_type": "markdown",
      "source": [
        "15)  Can you modify the elements of a tuple? Explain why or why not?\n",
        "\n",
        "15) No, you cannot modify the elements of a tuple in Python. This is because tuples are immutable, meaning their contents cannot be changed after they are created.\n",
        "\n",
        "Reasoning:\n",
        "\n",
        "Immutability: Immutability is a fundamental characteristic of tuples. Once a tuple is created, its elements are fixed and cannot be altered. This is in contrast to lists, which are mutable and allow modifications to their elements.\n",
        "\n",
        "Data Integrity: Immutability ensures the integrity of the data stored in a tuple. Since you cannot change the elements, there's no risk of accidentally modifying the data, leading to errors or inconsistencies.\n",
        "\n",
        "Hashing: Tuples are often used as keys in dictionaries. Dictionaries rely on the hash value of keys for efficient lookup. If tuples were mutable, their hash value could change after creation, leading to inconsistencies in the dictionary structure. Immutability ensures that the hash value of a tuple remains constant, guaranteeing the integrity of dictionaries.\n",
        "\n",
        "Example:\n",
        "\n",
        "\n",
        "my_tuple = (1, 2, 3)\n",
        "# my_tuple[0] = 10  # This would raise a TypeError as tuples are immutable\n",
        "Use code with caution\n",
        "In this example, attempting to change the first element of the tuple my_tuple would result in a TypeError because tuples do not support item assignment.\n",
        "\n",
        "Alternatives for Modification:\n",
        "\n",
        "While you cannot directly modify tuple elements, you can achieve a similar outcome by creating a new tuple with the desired changes. Here are some common approaches:\n",
        "\n",
        "Slicing and Concatenation: You can slice parts of the original tuple and concatenate them with new elements to create a new tuple.\n",
        "Converting to a List: You can convert the tuple to a list, make the modifications, and then convert it back to a tuple.\n",
        "Example:\n",
        "\n",
        "\n",
        "my_tuple = (1, 2, 3)\n",
        "new_tuple = my_tuple[:1] + (10,) + my_tuple[2:]  # Replacing the second element\n",
        "print(new_tuple)  # Output: (1, 10, 3)\n",
        "Use code with caution\n",
        "In this example, we create a new tuple new_tuple by slicing the original tuple and inserting a new element."
      ],
      "metadata": {
        "id": "Dm11mfP0S83b"
      }
    },
    {
      "cell_type": "markdown",
      "source": [
        "16) What is a nested dictionary, and give an example of its use case?\n",
        "\n",
        "16) A nested dictionary is a dictionary where the values are themselves dictionaries. This means you can have dictionaries within dictionaries, creating a hierarchical structure of data.\n",
        "\n",
        "Structure:\n",
        "\n",
        "A nested dictionary is essentially a dictionary of dictionaries. The outer dictionary has keys that map to inner dictionaries, which in turn have their own keys and values. This allows you to represent complex relationships between data elements.\n",
        "\n",
        "Example:\n",
        "\n",
        "\n",
        "student_data = {\n",
        "    'Alice': {'age': 20, 'major': 'Computer Science', 'grades': [85, 90, 92]},\n",
        "    'Bob': {'age': 22, 'major': 'Physics', 'grades': [90, 95, 88]},\n",
        "    'Charlie': {'age': 21, 'major': 'Mathematics', 'grades': [92, 88, 94]}\n",
        "}\n",
        "Use code with caution\n",
        "In this example, student_data is a nested dictionary. The outer keys are student names ('Alice', 'Bob', 'Charlie'), and the values are dictionaries containing information about each student (age, major, grades).\n",
        "\n",
        "Use Case: Representing Complex Data Structures\n",
        "\n",
        "Nested dictionaries are particularly useful for representing complex, hierarchical data structures. Here's an example use case:\n",
        "\n",
        "Storing Employee Data:\n",
        "\n",
        "Imagine you need to store information about employees in a company, including their department, position, and contact details. You could use a nested dictionary to represent this data:\n",
        "\n",
        "\n",
        "employee_data = {\n",
        "    'John Doe': {'department': 'Sales', 'position': 'Manager', 'contact': {'email': 'john.doe@example.com', 'phone': '123-456-7890'}},\n",
        "    'Jane Smith': {'department': 'Marketing', 'position': 'Analyst', 'contact': {'email': 'jane.smith@example.com', 'phone': '987-654-3210'}}\n",
        "}\n",
        "Use code with caution\n",
        "In this example, employee_data is a nested dictionary where the outer keys are employee names, and the values are dictionaries containing their department, position, and contact information (which is itself a nested dictionary).\n",
        "\n",
        "Benefits of Nested Dictionaries:\n",
        "\n",
        "Organization: They provide a structured and organized way to represent complex data with multiple levels of information.\n",
        "Readability: Using descriptive keys makes the data easier to understand and access.\n",
        "Flexibility: You can easily add or remove data elements at different levels of the hierarchy."
      ],
      "metadata": {
        "id": "C7FgWkd3TH61"
      }
    },
    {
      "cell_type": "markdown",
      "source": [
        "17) Describe the time complexity of accessing elements in a dictionary?\n",
        "\n",
        "17) the time complexity of accessing elements in a dictionary in Python:\n",
        "\n",
        "Time Complexity: Average Case O(1), Worst Case O(n)\n",
        "\n",
        "Average Case: In most cases, accessing an element in a dictionary takes O(1) time, also known as constant time. This means that the time required to access an element is independent of the size of the dictionary.\n",
        "\n",
        "Worst Case: In rare cases, where there are many collisions (multiple keys hashing to the same index), the time complexity can degrade to O(n), where n is the number of elements in the dictionary. However, Python's dictionary implementation uses various techniques to minimize collisions and maintain average-case O(1) performance.\n",
        "\n",
        "Reasoning:\n",
        "\n",
        "Dictionaries in Python are implemented using hash tables. Hash tables provide efficient key-based lookups by using a hash function to map keys to indices in an array. Here's a simplified explanation of how it works:\n",
        "\n",
        "Hashing: When you access an element using a key, Python's built-in hash function is applied to the key, generating a hash value.\n",
        "\n",
        "Indexing: The hash value is used to calculate an index within the hash table's internal array.\n",
        "\n",
        "Retrieval: The element associated with the key is stored at the calculated index, and it can be retrieved directly.\n",
        "\n",
        "Benefits of O(1) Access:\n",
        "\n",
        "Fast Lookups: Dictionaries are incredibly efficient for retrieving values based on keys. This makes them ideal for tasks where you need to frequently access data by key, such as storing user data, configuration settings, or caching frequently accessed information.\n",
        "Performance: The constant-time access ensures that dictionary lookups remain fast even as the dictionary grows in size.\n",
        "Factors Affecting Time Complexity:\n",
        "\n",
        "Hash Function: The efficiency of the hash function used by the dictionary implementation can impact the time complexity. Python's built-in hash function is generally well-optimized to minimize collisions.\n",
        "Collision Handling: The technique used to handle collisions (e.g., chaining, open addressing) can also affect the worst-case time complexity. Python's dictionary implementation uses a combination of techniques to efficiently handle collisions."
      ],
      "metadata": {
        "id": "nkKp2whUTUlU"
      }
    },
    {
      "cell_type": "markdown",
      "source": [
        "18) In what situations are lists preferred over dictionaries?\n",
        "\n",
        "18) Okay, let's discuss situations where lists are preferred over dictionaries in Python:\n",
        "\n",
        "Situations Favoring Lists:\n",
        "\n",
        "Preserving Order: Lists maintain the order of elements as they are added. This is crucial when the sequence of items is important, such as storing a series of events, steps in a process, or a deck of cards. Dictionaries, on the other hand, do not guarantee any specific order of elements.\n",
        "\n",
        "Allowing Duplicates: Lists can contain duplicate elements, which is useful when you need to store multiple occurrences of the same value. Dictionaries only allow unique keys, so duplicate values are not possible.\n",
        "\n",
        "Accessing Elements by Index: Lists provide direct access to elements using their index position. This is convenient when you need to retrieve or modify elements based on their position in the list. Dictionaries access elements by key, which might not be suitable if you need to work with index-based operations.\n",
        "\n",
        "Iterating Sequentially: Lists are designed for sequential processing. You can easily iterate through the elements of a list in the order they were added. While you can iterate through dictionaries, the order of elements is not guaranteed.\n",
        "\n",
        "Homogeneous Data: Lists are often used for storing collections of elements of the same data type. While lists can contain mixed data types, they are commonly used for homogeneous data. Dictionaries, with their key-value structure, are more suited for heterogeneous data where values can be of different types.\n",
        "\n",
        "Here's a breakdown of specific scenarios:\n",
        "\n",
        "Storing a sequence of events: If you need to store a timeline of events in the order they occurred, a list would be the appropriate choice.\n",
        "Maintaining a deck of cards: In card games, the order of cards in a deck is significant. A list would be ideal for representing the deck and performing operations like shuffling or dealing cards.\n",
        "Storing a shopping list: A shopping list typically contains multiple items, and the order in which they are added might not be important. However, you might want to allow duplicates (e.g., buying two loaves of bread). A list would be suitable for this scenario.\n",
        "Processing data sequentially: If you need to process data in a specific order, such as performing calculations on a series of numbers, a list would be the preferred data structure.\n",
        "Example:\n",
        "\n",
        "\n",
        "events = ['User logged in', 'Item added to cart', 'Order placed', 'Payment processed']\n",
        "Use code with caution\n",
        "In this example, the events list stores a sequence of events in the order they happened. Using a dictionary would not be appropriate as the order is important in this case."
      ],
      "metadata": {
        "id": "aJIN6vwpTiNn"
      }
    },
    {
      "cell_type": "markdown",
      "source": [
        "19) Why are dictionaries considered unordered, and how does that affect data retrieval?\n",
        "\n",
        "19) dictionaries are considered unordered and how that affects data retrieval in Python:\n",
        "\n",
        "Unordered Nature of Dictionaries:\n",
        "\n",
        "Dictionaries in Python are considered unordered because they do not guarantee any specific order of elements. The order in which elements are stored and retrieved might vary depending on factors like the hash function used, the order in which elements were added, and the internal implementation details.\n",
        "\n",
        "Reasoning:\n",
        "\n",
        "Dictionaries are implemented using hash tables, which are designed for efficient key-based lookups rather than maintaining a specific order. When you add a key-value pair to a dictionary, the key is hashed to determine its position in the hash table. The order of elements is not explicitly maintained during this process.\n",
        "\n",
        "Impact on Data Retrieval:\n",
        "\n",
        "The unordered nature of dictionaries affects data retrieval in the following ways:\n",
        "\n",
        "No Index-Based Access: You cannot access elements in a dictionary using index positions like you can with lists. You must use the key to retrieve the corresponding value.\n",
        "\n",
        "Unpredictable Iteration Order: When you iterate through a dictionary using a for loop, the order in which elements are processed is not guaranteed. The order might change between different Python versions or even between different runs of the same program.\n",
        "\n",
        "No Guarantee of Insertion Order: The order in which elements were added to a dictionary is not necessarily preserved. When you iterate through the dictionary, the elements might not be processed in the same order they were inserted.\n",
        "\n",
        "Example:\n",
        "\n",
        "\n",
        "my_dict = {'apple': 1, 'banana': 2, 'orange': 3}\n",
        "\n",
        "# Accessing elements by key\n",
        "print(my_dict['banana'])  # Output: 2\n",
        "\n",
        "# Iterating through the dictionary\n",
        "for key, value in my_dict.items():\n",
        "    print(key, value)  # Order might vary\n",
        "Use code with caution\n",
        "Workarounds for Ordering:\n",
        "\n",
        "If you need to maintain a specific order of elements in a dictionary-like structure, you can consider using the OrderedDict class from the collections module. OrderedDict remembers the order in which elements were added and preserves that order during iteration."
      ],
      "metadata": {
        "id": "070xMIXKTvzS"
      }
    },
    {
      "cell_type": "markdown",
      "source": [
        "20)  Explain the difference between a list and a dictionary in terms of data retrieval.\n",
        "\n",
        "20) the difference between a list and a dictionary in terms of data retrieval in Python:\n",
        "\n",
        "Lists:\n",
        "\n",
        "Sequential Access: Lists store elements in a sequential order, and you retrieve data by using the element's index position. This means you need to know the position of the element you want to access.\n",
        "\n",
        "Index-Based Retrieval: To retrieve an element from a list, you use its index, which starts from 0 for the first element. For example, my_list[2] would access the third element in the list.\n",
        "\n",
        "Time Complexity: Accessing an element in a list by index takes O(1) time, meaning it's very efficient. However, searching for a specific element in a list requires iterating through the list, which can take O(n) time in the worst case, where n is the length of the list.\n",
        "\n",
        "Dictionaries:\n",
        "\n",
        "Key-Based Access: Dictionaries store data as key-value pairs, and you retrieve data by using the key associated with the desired value. This means you need to know the key to access the corresponding value.\n",
        "\n",
        "Key Lookup: To retrieve a value from a dictionary, you use the key as the index. For example, my_dict['name'] would access the value associated with the key 'name'.\n",
        "\n",
        "Time Complexity: Accessing an element in a dictionary by key takes O(1) time on average, due to the efficient hash table implementation. This makes dictionaries very fast for retrieving values based on keys.\n",
        "\n",
        "Here's a table summarizing the key differences:\n",
        "\n",
        "Feature\tList\tDictionary\n",
        "Data Storage\tSequential\tKey-Value Pairs\n",
        "Retrieval Method\tIndex-based\tKey-based\n",
        "Time Complexity (Access)\tO(1)\tO(1) on average\n",
        "Time Complexity (Search)\tO(n)\tO(1) on average\n",
        "In essence:\n",
        "\n",
        "Lists are efficient for retrieving elements by their position in the sequence.\n",
        "Dictionaries are efficient for retrieving values based on their associated keys.\n",
        "Choosing the Right Data Structure:\n",
        "\n",
        "The choice between a list and a dictionary depends on how you intend to access the data:\n",
        "\n",
        "If you need to access elements by their position or order, a list is more suitable.\n",
        "If you need to access values based on unique keys, a dictionary is more efficient."
      ],
      "metadata": {
        "id": "Pex3RP-YT43j"
      }
    },
    {
      "cell_type": "markdown",
      "source": [
        "**bold text**"
      ],
      "metadata": {
        "id": "NNWn-4LeRKnc"
      }
    },
    {
      "cell_type": "markdown",
      "source": [
        "# PRACTICAL QUESTIONS"
      ],
      "metadata": {
        "id": "lyh3qZiUmxYC"
      }
    },
    {
      "cell_type": "code",
      "execution_count": 1,
      "metadata": {
        "colab": {
          "base_uri": "https://localhost:8080/"
        },
        "id": "56jE3sDwZh-c",
        "outputId": "5d8a748f-6c17-4769-e540-3bb60c297ee7"
      },
      "outputs": [
        {
          "output_type": "stream",
          "name": "stdout",
          "text": [
            "Mohit\n"
          ]
        }
      ],
      "source": [
        "#1) Write a code to create a string with your name and print it\n",
        "my_name = \"Mohit\"\n",
        "print(my_name)\n"
      ]
    },
    {
      "cell_type": "code",
      "source": [
        "# 2) Write a code to find the length of the string \"Hello World\"\n",
        "string = \"Hello World\"\n",
        "length = len(string)\n",
        "print(length)"
      ],
      "metadata": {
        "colab": {
          "base_uri": "https://localhost:8080/"
        },
        "id": "FMqqo77Hbpof",
        "outputId": "a8ba4574-1cda-4ffd-835d-c88dbcc63820"
      },
      "execution_count": 3,
      "outputs": [
        {
          "output_type": "stream",
          "name": "stdout",
          "text": [
            "11\n"
          ]
        }
      ]
    },
    {
      "cell_type": "code",
      "source": [
        "# 3) Write a code to slice the first 3 characters from the string \"Python Programming\"\n",
        "string = \"Python Programming\"\n",
        "sliced_string = string[:3]\n",
        "print(sliced_string)"
      ],
      "metadata": {
        "colab": {
          "base_uri": "https://localhost:8080/"
        },
        "id": "lp4Rpn-_b-8d",
        "outputId": "448b53fc-912d-4623-c6e5-a3e195b9c747"
      },
      "execution_count": 4,
      "outputs": [
        {
          "output_type": "stream",
          "name": "stdout",
          "text": [
            "Pyt\n"
          ]
        }
      ]
    },
    {
      "cell_type": "code",
      "source": [
        "# 4) Write a code to convert the string \"hello\" to uppercase\n",
        "string = \"hello\"\n",
        "uppercase_string = string.upper()\n",
        "print(uppercase_string)"
      ],
      "metadata": {
        "colab": {
          "base_uri": "https://localhost:8080/"
        },
        "id": "2CQkUtFSf4jw",
        "outputId": "8200b709-a220-45aa-faf2-9371ca762187"
      },
      "execution_count": 5,
      "outputs": [
        {
          "output_type": "stream",
          "name": "stdout",
          "text": [
            "HELLO\n"
          ]
        }
      ]
    },
    {
      "cell_type": "code",
      "source": [
        "# 5) Write a code to replace the word \"apple\" with \"orange\" in the string \"I like apple\"\n",
        "string = \"I like apple\"\n",
        "replaced_string = string.replace(\"apple\", \"orange\")\n",
        "print(replaced_string)"
      ],
      "metadata": {
        "colab": {
          "base_uri": "https://localhost:8080/"
        },
        "id": "qbpnmeILgRKE",
        "outputId": "9563c2d0-dfa9-4594-d317-a161ff3892a3"
      },
      "execution_count": 7,
      "outputs": [
        {
          "output_type": "stream",
          "name": "stdout",
          "text": [
            "I like orange\n"
          ]
        }
      ]
    },
    {
      "cell_type": "code",
      "source": [
        "# 6) Write a code to create a list with numbers 1 to 5 and print it\n",
        "my_list = list(range(1, 6))\n",
        "print(my_list)"
      ],
      "metadata": {
        "colab": {
          "base_uri": "https://localhost:8080/"
        },
        "id": "9GdidTo_g7up",
        "outputId": "5281ef50-15d7-42ed-8c18-28d344ae485a"
      },
      "execution_count": 8,
      "outputs": [
        {
          "output_type": "stream",
          "name": "stdout",
          "text": [
            "[1, 2, 3, 4, 5]\n"
          ]
        }
      ]
    },
    {
      "cell_type": "code",
      "source": [
        "# 7) Write a code to append the number 10 to the list [1, 2, 3, 4]\n",
        "my_list = [1, 2, 3, 4]\n",
        "my_list.append(10)\n",
        "print(my_list)"
      ],
      "metadata": {
        "colab": {
          "base_uri": "https://localhost:8080/"
        },
        "id": "bj5ZPPLHhQXs",
        "outputId": "4b9ba2b2-b107-4e09-ce04-40ba03a9e70d"
      },
      "execution_count": 9,
      "outputs": [
        {
          "output_type": "stream",
          "name": "stdout",
          "text": [
            "[1, 2, 3, 4, 10]\n"
          ]
        }
      ]
    },
    {
      "cell_type": "code",
      "source": [
        "# 8) Write a code to remove the number 3 from the list [1, 2, 3, 4, 5]\n",
        "my_list = [1, 2, 3, 4, 5]\n",
        "my_list.remove(3)\n",
        "print(my_list)"
      ],
      "metadata": {
        "colab": {
          "base_uri": "https://localhost:8080/"
        },
        "id": "n5w8Iw-_ho8l",
        "outputId": "18d98196-6794-46ff-9934-923b237d1470"
      },
      "execution_count": 10,
      "outputs": [
        {
          "output_type": "stream",
          "name": "stdout",
          "text": [
            "[1, 2, 4, 5]\n"
          ]
        }
      ]
    },
    {
      "cell_type": "code",
      "source": [
        "# 9)  Write a code to access the second element in the list ['a', 'b', 'c', 'd']\n",
        "my_list = ['a', 'b', 'c', 'd']\n",
        "second_element = my_list[1]\n",
        "print(second_element)"
      ],
      "metadata": {
        "colab": {
          "base_uri": "https://localhost:8080/"
        },
        "id": "bY0fQGm3h7_j",
        "outputId": "d0358e77-9344-401a-e51e-879074d60925"
      },
      "execution_count": 11,
      "outputs": [
        {
          "output_type": "stream",
          "name": "stdout",
          "text": [
            "b\n"
          ]
        }
      ]
    },
    {
      "cell_type": "code",
      "source": [
        "# 10) Write a code to reverse the list [10, 20, 30, 40, 50]\n",
        "my_list = [10, 20, 30, 40, 50]\n",
        "reversed_list = my_list[::-1]\n",
        "print(reversed_list)"
      ],
      "metadata": {
        "colab": {
          "base_uri": "https://localhost:8080/"
        },
        "id": "o-KTQ_YciWsg",
        "outputId": "497b901a-31e3-4394-8587-8f83243724f2"
      },
      "execution_count": 12,
      "outputs": [
        {
          "output_type": "stream",
          "name": "stdout",
          "text": [
            "[50, 40, 30, 20, 10]\n"
          ]
        }
      ]
    },
    {
      "cell_type": "code",
      "source": [
        "# 11)  Write a code to create a tuple with the elements 10, 20, 30 and print it\n",
        "my_tuple = (10, 20, 30)\n",
        "print(my_tuple)"
      ],
      "metadata": {
        "colab": {
          "base_uri": "https://localhost:8080/"
        },
        "id": "xgpxEbHci0je",
        "outputId": "aa20c335-0ec9-4e11-b316-65d8fe8bc8ee"
      },
      "execution_count": 13,
      "outputs": [
        {
          "output_type": "stream",
          "name": "stdout",
          "text": [
            "(10, 20, 30)\n"
          ]
        }
      ]
    },
    {
      "cell_type": "code",
      "source": [
        "# 12) Write a code to access the first element of the tuple ('apple', 'banana', 'cherry')\n",
        "my_tuple = ('apple', 'banana', 'cherry')\n",
        "first_element = my_tuple[0]\n",
        "print(first_element)"
      ],
      "metadata": {
        "colab": {
          "base_uri": "https://localhost:8080/"
        },
        "id": "d2N_exmli-O2",
        "outputId": "bab99093-f611-4ed2-d8a6-688f2235001b"
      },
      "execution_count": 15,
      "outputs": [
        {
          "output_type": "stream",
          "name": "stdout",
          "text": [
            "apple\n"
          ]
        }
      ]
    },
    {
      "cell_type": "code",
      "source": [
        "# 13) Write a code to count how many times the number 2 appears in the tuple (1, 2, 3, 2, 4, 2)\n",
        "my_tuple = (1, 2, 3, 2, 4, 2)\n",
        "count = my_tuple.count(2)\n",
        "print(count)"
      ],
      "metadata": {
        "colab": {
          "base_uri": "https://localhost:8080/"
        },
        "id": "wlfDCxFFjFLS",
        "outputId": "93c829f3-de86-4d14-dc4b-552e57be8d93"
      },
      "execution_count": 16,
      "outputs": [
        {
          "output_type": "stream",
          "name": "stdout",
          "text": [
            "3\n"
          ]
        }
      ]
    },
    {
      "cell_type": "code",
      "source": [
        "# 14)  Write a code to find the index of the element \"cat\" in the tuple ('dog', 'cat', 'rabbit')\n",
        "my_tuple = ('dog', 'cat', 'rabbit')\n",
        "index = my_tuple.index(\"cat\")\n",
        "print(index)"
      ],
      "metadata": {
        "colab": {
          "base_uri": "https://localhost:8080/"
        },
        "id": "XqITBLcwjfsU",
        "outputId": "14a95362-24fb-4e0e-dc3e-2417bbea1a3e"
      },
      "execution_count": 17,
      "outputs": [
        {
          "output_type": "stream",
          "name": "stdout",
          "text": [
            "1\n"
          ]
        }
      ]
    },
    {
      "cell_type": "code",
      "source": [
        "# 15) Write a code to check if the element \"banana\" is in the tuple ('apple', 'orange', 'banana')\n",
        "my_tuple = ('apple', 'orange', 'banana')\n",
        "\n",
        "if \"banana\" in my_tuple:\n",
        "  print(\"Yes, 'banana' is in the tuple\")\n",
        "else:\n",
        "  print(\"No, 'banana' is not in the tuple\")"
      ],
      "metadata": {
        "colab": {
          "base_uri": "https://localhost:8080/"
        },
        "id": "IKEJZk2YkICL",
        "outputId": "ee422381-ad7d-43e0-a1cc-df852f397d86"
      },
      "execution_count": 18,
      "outputs": [
        {
          "output_type": "stream",
          "name": "stdout",
          "text": [
            "Yes, 'banana' is in the tuple\n"
          ]
        }
      ]
    },
    {
      "cell_type": "code",
      "source": [
        "# 16) Write a code to create a set with the elements 1, 2, 3, 4, 5 and print it.\n",
        "my_set = {1, 2, 3, 4, 5}\n",
        "print(my_set)"
      ],
      "metadata": {
        "colab": {
          "base_uri": "https://localhost:8080/"
        },
        "id": "NLWikqdYkY9i",
        "outputId": "5fd353aa-236a-48f6-9ed0-c5182a9d0966"
      },
      "execution_count": 19,
      "outputs": [
        {
          "output_type": "stream",
          "name": "stdout",
          "text": [
            "{1, 2, 3, 4, 5}\n"
          ]
        }
      ]
    },
    {
      "cell_type": "code",
      "source": [
        "# 17) Write a code to add the element 6 to the set {1, 2, 3, 4}.\n",
        "my_set = {1, 2, 3, 4}\n",
        "my_set.add(6)\n",
        "print(my_set)"
      ],
      "metadata": {
        "colab": {
          "base_uri": "https://localhost:8080/"
        },
        "id": "E4wXsCKIkq6z",
        "outputId": "0f47e0c3-0937-4007-b235-ff87f370dc8c"
      },
      "execution_count": 20,
      "outputs": [
        {
          "output_type": "stream",
          "name": "stdout",
          "text": [
            "{1, 2, 3, 4, 6}\n"
          ]
        }
      ]
    },
    {
      "cell_type": "code",
      "source": [
        "# 18) Write a code to create a tuple with the elements 10, 20, 30 and print it\n",
        "my_tuple = (10, 20, 30)\n",
        "print(my_tuple)"
      ],
      "metadata": {
        "colab": {
          "base_uri": "https://localhost:8080/"
        },
        "id": "UnKr1zVUlI1y",
        "outputId": "4b64b8eb-95d3-4033-d685-ffc229ad4055"
      },
      "execution_count": 21,
      "outputs": [
        {
          "output_type": "stream",
          "name": "stdout",
          "text": [
            "(10, 20, 30)\n"
          ]
        }
      ]
    },
    {
      "cell_type": "code",
      "source": [
        "# 19)  Write a code to access the first element of the tuple ('apple', 'banana', 'cherry')\n",
        "my_tuple = ('apple', 'banana', 'cherry')\n",
        "first_element = my_tuple[0]\n",
        "print(first_element)"
      ],
      "metadata": {
        "colab": {
          "base_uri": "https://localhost:8080/"
        },
        "id": "CI8iN9HCloFi",
        "outputId": "9efd75ca-f807-4ef5-e257-6117cd613e31"
      },
      "execution_count": 22,
      "outputs": [
        {
          "output_type": "stream",
          "name": "stdout",
          "text": [
            "apple\n"
          ]
        }
      ]
    },
    {
      "cell_type": "code",
      "source": [
        "# 20) Write a code to count how many times the number 2 appears in the tuple (1, 2, 3, 2, 4, 2)\n",
        "my_tuple = (1, 2, 3, 2, 4, 2)\n",
        "count = my_tuple.count(2)\n",
        "print(count)"
      ],
      "metadata": {
        "colab": {
          "base_uri": "https://localhost:8080/"
        },
        "id": "HrkwDb-ul1jf",
        "outputId": "61a6d3ed-bffc-4d9e-dc57-64148cb6be57"
      },
      "execution_count": 23,
      "outputs": [
        {
          "output_type": "stream",
          "name": "stdout",
          "text": [
            "3\n"
          ]
        }
      ]
    },
    {
      "cell_type": "code",
      "source": [
        "# 21)  Write a code to find the index of the element \"cat\" in the tuple ('dog', 'cat', 'rabbit')\n",
        "my_tuple = ('dog', 'cat', 'rabbit')\n",
        "index = my_tuple.index(\"cat\")\n",
        "print(index)"
      ],
      "metadata": {
        "colab": {
          "base_uri": "https://localhost:8080/"
        },
        "id": "zIOkHlI7l_cV",
        "outputId": "518a6227-ff35-47fc-9e43-4dc3295790e8"
      },
      "execution_count": 24,
      "outputs": [
        {
          "output_type": "stream",
          "name": "stdout",
          "text": [
            "1\n"
          ]
        }
      ]
    },
    {
      "cell_type": "code",
      "source": [
        "# 22) Write a code to check if the element \"banana\" is in the tuple ('apple', 'orange', 'banana')\n",
        "my_tuple = ('apple', 'orange', 'banana')\n",
        "\n",
        "if \"banana\" in my_tuple:\n",
        "  print(\"Yes, 'banana' is in the tuple\")\n",
        "else:\n",
        "  print(\"No, 'banana' is not in the tuple\")"
      ],
      "metadata": {
        "id": "if7HqLZDmQ9F"
      },
      "execution_count": null,
      "outputs": []
    },
    {
      "cell_type": "code",
      "source": [
        "# 23) Write a code to create a set with the elements 1, 2, 3, 4, 5 and print it.\n",
        "my_set = {1, 2, 3, 4, 5}\n",
        "print(my_set)"
      ],
      "metadata": {
        "id": "mJ4lGy4WmfFn"
      },
      "execution_count": null,
      "outputs": []
    },
    {
      "cell_type": "code",
      "source": [
        "# 24) Write a code to add the element 6 to the set {1, 2, 3, 4}.\n",
        "my_set = {1, 2, 3, 4}\n",
        "my_set.add(6)\n",
        "print(my_set)"
      ],
      "metadata": {
        "id": "SV5XK9lHmr2O"
      },
      "execution_count": null,
      "outputs": []
    }
  ]
}